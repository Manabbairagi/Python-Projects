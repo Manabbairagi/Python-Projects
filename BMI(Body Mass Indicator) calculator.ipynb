{
 "cells": [
  {
   "cell_type": "markdown",
   "id": "3e56e6dc",
   "metadata": {},
   "source": [
    "# BMI Calculator\n",
    "\n",
    "\n",
    "https://www.calculator.net/bmi-calculator.html?cage=25&csex=m&cheightfeet=5&cheightinch=10&cpound=160&cheightmeter=180&ckg=78&printit=0&ctype=metric&x=Calculate"
   ]
  },
  {
   "cell_type": "code",
   "execution_count": 11,
   "id": "200abce8",
   "metadata": {},
   "outputs": [
    {
     "name": "stdout",
     "output_type": "stream",
     "text": [
      "Enter your name: Manab\n",
      "Enter your weight in pounds: 170\n",
      "Enter your height in inches: 70\n",
      "24.389795918367348\n",
      "Manab, You are normal weight\n"
     ]
    }
   ],
   "source": [
    "name = input('Enter your name: ')\n",
    "\n",
    "weight = int(input('Enter your weight in pounds: '))\n",
    "\n",
    "height = int(input('Enter your height in inches: '))\n",
    "\n",
    "BMI = (weight * 703) / (height * height)\n",
    "\n",
    "print(BMI)\n",
    "\n",
    "if BMI > 0:\n",
    "    if(BMI < 18.5):\n",
    "        print(name + ', You are underweight')\n",
    "    elif(BMI <= 24.9):\n",
    "        print(name +', You are normal weight')\n",
    "    elif(BMI <= 29.9):\n",
    "        print(name +', You are overweight')\n",
    "    elif(BMI <= 34.9):\n",
    "        print(name +', You are Obese')\n",
    "    elif(BMI <= 39.9):\n",
    "        print(name +', You are Severly obese')\n",
    "    elif(BMI >= 40):\n",
    "        print(name +', You are Morbidly obese')\n",
    "    else:\n",
    "        print('Please enter vaid inputs')"
   ]
  },
  {
   "cell_type": "code",
   "execution_count": null,
   "id": "9e073e92",
   "metadata": {},
   "outputs": [],
   "source": []
  },
  {
   "cell_type": "code",
   "execution_count": null,
   "id": "2f7d2e18",
   "metadata": {},
   "outputs": [],
   "source": []
  },
  {
   "cell_type": "code",
   "execution_count": null,
   "id": "1f1c098d",
   "metadata": {},
   "outputs": [],
   "source": []
  },
  {
   "cell_type": "code",
   "execution_count": 5,
   "id": "67dc8169",
   "metadata": {},
   "outputs": [],
   "source": [
    "#BMI = (weight in pounds x 703)/ (height in inches x height in inches)\n"
   ]
  },
  {
   "cell_type": "code",
   "execution_count": null,
   "id": "babae39e",
   "metadata": {},
   "outputs": [],
   "source": [
    "print(weight)"
   ]
  },
  {
   "cell_type": "code",
   "execution_count": 7,
   "id": "91d4be90",
   "metadata": {
    "scrolled": true
   },
   "outputs": [],
   "source": [
    "#Under 18.5\tUnderweight\tMinimal\n",
    "#18.5 - 24.9\tNormal Weight\tMinimal\n",
    "#25 - 29.9\tOverweight\tIncreased\n",
    "#30 - 34.9\tObese\tHigh\n",
    "#35 - 39.9\tSeverely Obese\tVery High\n",
    "#40 and over\tMorbidly Obese\tExtremely High"
   ]
  },
  {
   "cell_type": "code",
   "execution_count": 10,
   "id": "de08ceb8",
   "metadata": {},
   "outputs": [
    {
     "name": "stdout",
     "output_type": "stream",
     "text": [
      "Manab, You are normal weight\n"
     ]
    }
   ],
   "source": [
    "if BMI > 0:\n",
    "    if(BMI < 18.5):\n",
    "        print(name + ', You are underweight')\n",
    "    elif(BMI <= 24.9):\n",
    "        print(name +', You are normal weight')\n",
    "    elif(BMI <= 29.9):\n",
    "        print(name +', You are overweight')\n",
    "    elif(BMI <= 34.9):\n",
    "        print(name +', You are Obese')\n",
    "    elif(BMI <= 39.9):\n",
    "        print(name +', You are Severly obese')\n",
    "    elif(BMI >= 40):\n",
    "        print(name +', You are Morbidly obese')\n",
    "    else:\n",
    "        print('Please enter vaid inputs')\n",
    "    "
   ]
  },
  {
   "cell_type": "code",
   "execution_count": null,
   "id": "313a3e23",
   "metadata": {},
   "outputs": [],
   "source": []
  }
 ],
 "metadata": {
  "kernelspec": {
   "display_name": "Python 3 (ipykernel)",
   "language": "python",
   "name": "python3"
  },
  "language_info": {
   "codemirror_mode": {
    "name": "ipython",
    "version": 3
   },
   "file_extension": ".py",
   "mimetype": "text/x-python",
   "name": "python",
   "nbconvert_exporter": "python",
   "pygments_lexer": "ipython3",
   "version": "3.11.3"
  }
 },
 "nbformat": 4,
 "nbformat_minor": 5
}
